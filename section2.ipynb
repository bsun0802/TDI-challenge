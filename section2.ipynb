{
 "cells": [
  {
   "cell_type": "code",
   "execution_count": 2,
   "metadata": {},
   "outputs": [],
   "source": [
    "import numpy as np"
   ]
  },
  {
   "cell_type": "code",
   "execution_count": 3,
   "metadata": {},
   "outputs": [],
   "source": [
    "modulo = 10 ** 10 + 7"
   ]
  },
  {
   "cell_type": "code",
   "execution_count": 158,
   "metadata": {},
   "outputs": [],
   "source": [
    "def number_of_valid_seq(n, k, j):\n",
    "    N = n\n",
    "    last = j - 1\n",
    "    K = k\n",
    "    dp = [[0] * N for i in range(K)]\n",
    "    for _ in range(K):\n",
    "        dp[_][0] = 1\n",
    "    for _ in range(K):\n",
    "        if _ != last:\n",
    "            dp[_][1] = 1\n",
    "        else:\n",
    "            dp[_][1] = 0\n",
    "    for n in range(2, N):\n",
    "        for i in range(K):\n",
    "            dp[i][n] = sum([dp[_][n - 1] for _ in range(K) if _ != i])\n",
    "    return dp"
   ]
  },
  {
   "cell_type": "code",
   "execution_count": 160,
   "metadata": {},
   "outputs": [],
   "source": [
    "def number_of_valid_seq_with_mod(n, k, j):\n",
    "    N = n\n",
    "    last = j - 1\n",
    "    K = k\n",
    "    dp = [[0] * N for i in range(K)]\n",
    "    for _ in range(K):\n",
    "        dp[_][0] = 1\n",
    "    for _ in range(K):\n",
    "        if _ != last:\n",
    "            dp[_][1] = 1\n",
    "        else:\n",
    "            dp[_][1] = 0\n",
    "    for n in range(2, N):\n",
    "        for i in range(K):\n",
    "            dp[i][n] = sum([dp[_][n - 1] for _ in range(K) if _ != i]) % modulo\n",
    "    return dp"
   ]
  },
  {
   "cell_type": "code",
   "execution_count": 182,
   "metadata": {},
   "outputs": [
    {
     "name": "stdout",
     "output_type": "stream",
     "text": [
      "7\n",
      "[[1, 1, 2, 7], [1, 0, 3, 6], [1, 1, 2, 7], [1, 1, 2, 7]]\n"
     ]
    }
   ],
   "source": [
    "# Q1\n",
    "n=4\n",
    "k=4\n",
    "j=2\n",
    "dp = number_of_valid_seq(n=n, k=k, j=j)\n",
    "print(dp[0][n - 1] % modulo)\n",
    "print(dp)"
   ]
  },
  {
   "cell_type": "code",
   "execution_count": 162,
   "metadata": {},
   "outputs": [
    {
     "name": "stdout",
     "output_type": "stream",
     "text": [
      "9702\n"
     ]
    }
   ],
   "source": [
    "n=4\n",
    "k=100\n",
    "j=1\n",
    "dp = number_of_valid_seq(n=n, k=k, j=j)\n",
    "print(dp[0][n - 1] % modulo)"
   ]
  },
  {
   "cell_type": "code",
   "execution_count": 163,
   "metadata": {},
   "outputs": [
    {
     "name": "stdout",
     "output_type": "stream",
     "text": [
      "7934293301\n"
     ]
    }
   ],
   "source": [
    "n=100\n",
    "k=100\n",
    "j=1\n",
    "dp = number_of_valid_seq(n=n, k=k, j=j)\n",
    "print(dp[0][n - 1] % modulo)"
   ]
  },
  {
   "cell_type": "code",
   "execution_count": 166,
   "metadata": {},
   "outputs": [
    {
     "name": "stdout",
     "output_type": "stream",
     "text": [
      "4403056638\n"
     ]
    }
   ],
   "source": [
    "n=347\n",
    "k=2281\n",
    "j=829\n",
    "dp = number_of_valid_seq(n=n, k=k, j=j)\n",
    "print(dp[0][n - 1] % modulo)"
   ]
  },
  {
   "cell_type": "code",
   "execution_count": 167,
   "metadata": {},
   "outputs": [
    {
     "name": "stdout",
     "output_type": "stream",
     "text": [
      "4403056638\n"
     ]
    }
   ],
   "source": [
    "n=347\n",
    "k=2281\n",
    "j=829\n",
    "dp = number_of_valid_seq_with_mod(n=n, k=k, j=j)\n",
    "print(dp[0][n - 1] % modulo)"
   ]
  },
  {
   "cell_type": "code",
   "execution_count": 135,
   "metadata": {},
   "outputs": [
    {
     "data": {
      "text/plain": [
       "38881"
      ]
     },
     "execution_count": 135,
     "metadata": {},
     "output_type": "execute_result"
    }
   ],
   "source": [
    "6**5 * 5 + 1"
   ]
  },
  {
   "cell_type": "code",
   "execution_count": 201,
   "metadata": {},
   "outputs": [],
   "source": [
    "def dp2d(n):\n",
    "    T1 = [0] * n\n",
    "    T2 = [0] * n\n",
    "    T1[0] = 1\n",
    "    T2[1] = 1\n",
    "    for i in range(2, n):\n",
    "        T1[i] = (k-1)*T1[i-2] + (k-2)*(k-1)*T2[i-2]\n",
    "        T2[i] = (k-2)*T1[i-2] + ((k**2-3*k+ 3)*T2[i-2])\n",
    "    return T1, T2\n",
    "    "
   ]
  },
  {
   "cell_type": "code",
   "execution_count": 206,
   "metadata": {},
   "outputs": [
    {
     "name": "stdout",
     "output_type": "stream",
     "text": [
      "7\n"
     ]
    }
   ],
   "source": [
    "# Question 1, j=2\n",
    "n=4\n",
    "k=4\n",
    "T1, T2 = dp2d(n=n)\n",
    "print(T2[n-1])"
   ]
  },
  {
   "cell_type": "code",
   "execution_count": 207,
   "metadata": {},
   "outputs": [
    {
     "name": "stdout",
     "output_type": "stream",
     "text": [
      "9702\n"
     ]
    }
   ],
   "source": [
    "# Question 2, j=1\n",
    "n=4\n",
    "k=100\n",
    "T1, T2 = dp2d(n=n)\n",
    "print(T1[n-1])"
   ]
  },
  {
   "cell_type": "code",
   "execution_count": 209,
   "metadata": {},
   "outputs": [
    {
     "name": "stdout",
     "output_type": "stream",
     "text": [
      "7934293301\n"
     ]
    }
   ],
   "source": [
    "# Question 3, j=1\n",
    "n=100\n",
    "k=100\n",
    "T1, T2 = dp2d(n=n)\n",
    "print(T1[n-1] % modulo)"
   ]
  },
  {
   "cell_type": "code",
   "execution_count": 211,
   "metadata": {},
   "outputs": [
    {
     "name": "stdout",
     "output_type": "stream",
     "text": [
      "4403056638\n"
     ]
    }
   ],
   "source": [
    "# Question 4, j=829\n",
    "n=347\n",
    "k=2281\n",
    "T1, T2 = dp2d(n=n)\n",
    "print(T2[n-1] % modulo)"
   ]
  },
  {
   "cell_type": "code",
   "execution_count": null,
   "metadata": {},
   "outputs": [],
   "source": [
    "# Question 4, j=1\n",
    "n=int(1.26e6)\n",
    "k=int(4.17e6)\n",
    "T1, T2 = dp2d(n=n)\n",
    "print(T2[n-1] % modulo)"
   ]
  },
  {
   "cell_type": "code",
   "execution_count": null,
   "metadata": {},
   "outputs": [],
   "source": [
    "1.26e6"
   ]
  },
  {
   "cell_type": "code",
   "execution_count": 4,
   "metadata": {},
   "outputs": [],
   "source": [
    "def dp2d_nokeep(n):\n",
    "    t11, t12 = 1, 0\n",
    "    t21, t22 = 0, 1\n",
    "    for i in range(2, n):\n",
    "        t13 = ((k-1)*t11 + (k-2)*(k-1)*t21) % modulo\n",
    "        t23 = ((k-2)*t11 + (k**2-3*k+3)*t21) % modulo\n",
    "        t11, t12 = t12, t13\n",
    "        t21, t22 = t22, t23\n",
    "    return t12, t22\n",
    "    "
   ]
  },
  {
   "cell_type": "code",
   "execution_count": 5,
   "metadata": {},
   "outputs": [
    {
     "name": "stdout",
     "output_type": "stream",
     "text": [
      "6 7\n"
     ]
    }
   ],
   "source": [
    "# Question 1, j=2 => ans2\n",
    "n=4\n",
    "k=4\n",
    "ans1, ans2 = dp2d_nokeep(n)\n",
    "print(ans1, ans2)"
   ]
  },
  {
   "cell_type": "code",
   "execution_count": 13,
   "metadata": {},
   "outputs": [
    {
     "name": "stdout",
     "output_type": "stream",
     "text": [
      "14707 14706\n"
     ]
    }
   ],
   "source": [
    "# Question 2, j=1 => ans1\n",
    "n=7\n",
    "k=8\n",
    "ans1, ans2 = dp2d_nokeep(n)\n",
    "print(ans1, ans2)"
   ]
  },
  {
   "cell_type": "code",
   "execution_count": 7,
   "metadata": {},
   "outputs": [
    {
     "name": "stdout",
     "output_type": "stream",
     "text": [
      "7934293301 7934293302\n"
     ]
    }
   ],
   "source": [
    "# Question 3, j=1 => ans1\n",
    "n=100\n",
    "k=100\n",
    "ans1, ans2 = dp2d_nokeep(n)\n",
    "print(ans1, ans2)"
   ]
  },
  {
   "cell_type": "code",
   "execution_count": 8,
   "metadata": {},
   "outputs": [
    {
     "name": "stdout",
     "output_type": "stream",
     "text": [
      "7102255028 7102255027\n"
     ]
    }
   ],
   "source": [
    "# Question 4, j=829 => ans2\n",
    "n=341\n",
    "k=2281\n",
    "ans1, ans2 = dp2d_nokeep(n)\n",
    "print(ans1, ans2)"
   ]
  },
  {
   "cell_type": "code",
   "execution_count": 9,
   "metadata": {},
   "outputs": [
    {
     "name": "stdout",
     "output_type": "stream",
     "text": [
      "1926411550 1926411551\n"
     ]
    }
   ],
   "source": [
    "# Question 5, j=1 => ans1\n",
    "n=int(1.26e6)\n",
    "k=int(4.17e6)\n",
    "ans1, ans2 = dp2d_nokeep(n)\n",
    "print(ans1 % modulo, ans2 % modulo)"
   ]
  },
  {
   "cell_type": "code",
   "execution_count": 10,
   "metadata": {},
   "outputs": [
    {
     "name": "stdout",
     "output_type": "stream",
     "text": [
      "8051788352 8051788353\n"
     ]
    }
   ],
   "source": [
    "# Question 6, j=829 => ans2\n",
    "n=int(1e7)\n",
    "k=int(10**12)\n",
    "ans1, ans2 = dp2d_nokeep(n)\n",
    "print(ans1 % modulo, ans2%modulo)"
   ]
  },
  {
   "cell_type": "code",
   "execution_count": null,
   "metadata": {},
   "outputs": [],
   "source": []
  }
 ],
 "metadata": {
  "kernelspec": {
   "display_name": "Python 3",
   "language": "python",
   "name": "python3"
  },
  "language_info": {
   "codemirror_mode": {
    "name": "ipython",
    "version": 3
   },
   "file_extension": ".py",
   "mimetype": "text/x-python",
   "name": "python",
   "nbconvert_exporter": "python",
   "pygments_lexer": "ipython3",
   "version": "3.7.3"
  }
 },
 "nbformat": 4,
 "nbformat_minor": 2
}
