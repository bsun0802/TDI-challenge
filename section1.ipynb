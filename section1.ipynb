{
 "cells": [
  {
   "cell_type": "code",
   "execution_count": 5,
   "metadata": {},
   "outputs": [],
   "source": [
    "from os import path\n",
    "\n",
    "import numpy as np\n",
    "import pandas as pd\n",
    "import matplotlib.pyplot as plt\n",
    "import seaborn as sns\n",
    "\n",
    "from scipy import stats\n",
    "from sklearn import linear_model\n",
    "from geopy.distance import great_circle"
   ]
  },
  {
   "cell_type": "code",
   "execution_count": 6,
   "metadata": {},
   "outputs": [
    {
     "name": "stderr",
     "output_type": "stream",
     "text": [
      "/anaconda3/envs/modin-pandas/lib/python3.7/site-packages/IPython/core/interactiveshell.py:3049: DtypeWarning: Columns (3) have mixed types. Specify dtype option on import or set low_memory=False.\n",
      "  interactivity=interactivity, compiler=compiler, result=result)\n"
     ]
    }
   ],
   "source": [
    "nypd = pd.read_csv(path.join('data', 'NYPD_Motor_Vehicle_Collisions.csv'), parse_dates=[['DATE', 'TIME']],\n",
    "                   dtype={'ZIP CODE': str})"
   ]
  },
  {
   "cell_type": "code",
   "execution_count": 11,
   "metadata": {},
   "outputs": [
    {
     "name": "stdout",
     "output_type": "stream",
     "text": [
      "Index(['DATE_TIME', 'BOROUGH', 'ZIP CODE', 'LATITUDE', 'LONGITUDE', 'LOCATION',\n",
      "       'ON STREET NAME', 'CROSS STREET NAME', 'OFF STREET NAME',\n",
      "       'NUMBER OF PERSONS INJURED', 'NUMBER OF PERSONS KILLED',\n",
      "       'NUMBER OF PEDESTRIANS INJURED', 'NUMBER OF PEDESTRIANS KILLED',\n",
      "       'NUMBER OF CYCLIST INJURED', 'NUMBER OF CYCLIST KILLED',\n",
      "       'NUMBER OF MOTORIST INJURED', 'NUMBER OF MOTORIST KILLED',\n",
      "       'CONTRIBUTING FACTOR VEHICLE 1', 'CONTRIBUTING FACTOR VEHICLE 2',\n",
      "       'CONTRIBUTING FACTOR VEHICLE 3', 'CONTRIBUTING FACTOR VEHICLE 4',\n",
      "       'CONTRIBUTING FACTOR VEHICLE 5', 'UNIQUE KEY', 'VEHICLE TYPE CODE 1',\n",
      "       'VEHICLE TYPE CODE 2', 'VEHICLE TYPE CODE 3', 'VEHICLE TYPE CODE 4',\n",
      "       'VEHICLE TYPE CODE 5'],\n",
      "      dtype='object')\n"
     ]
    }
   ],
   "source": [
    "print(nypd.columns)"
   ]
  },
  {
   "cell_type": "markdown",
   "metadata": {},
   "source": [
    "#### Q: What is the total number of persons injured in the dataset (up to December 31, 2018)?\n",
    "#### A: 367837. (Killed is not considered as injured.)"
   ]
  },
  {
   "cell_type": "code",
   "execution_count": 12,
   "metadata": {},
   "outputs": [
    {
     "name": "stdout",
     "output_type": "stream",
     "text": [
      "367837.0\n"
     ]
    }
   ],
   "source": [
    "nypd_trunc = nypd.query('DATE_TIME <= \"2018-12-31\"')\n",
    "print(nypd_trunc['NUMBER OF PERSONS INJURED'].sum())"
   ]
  },
  {
   "cell_type": "markdown",
   "metadata": {},
   "source": [
    "#### Q: What proportion of collisions in 2016 resulted in injury or death of a cyclist?\n",
    "#### A: 0.0216547426"
   ]
  },
  {
   "cell_type": "code",
   "execution_count": 13,
   "metadata": {},
   "outputs": [
    {
     "name": "stdout",
     "output_type": "stream",
     "text": [
      "0.021654742632339373\n"
     ]
    }
   ],
   "source": [
    "nypd_index = nypd.set_index('DATE_TIME')\n",
    "print(((nypd_index['2016']['NUMBER OF CYCLIST INJURED'] > 0) | (nypd_index['2016']['NUMBER OF CYCLIST KILLED'] > 0)).mean())"
   ]
  },
  {
   "cell_type": "markdown",
   "metadata": {},
   "source": [
    "#### Q: What proportion of all collisions in 2016 occured in Brooklyn? Only consider entries with a non-null value for BOROUGH."
   ]
  },
  {
   "cell_type": "code",
   "execution_count": 14,
   "metadata": {},
   "outputs": [
    {
     "name": "stdout",
     "output_type": "stream",
     "text": [
      "0.30961778079314234\n"
     ]
    }
   ],
   "source": [
    "nypd_2016 = nypd_index['2016'].copy()\n",
    "print((nypd_2016[~nypd_2016['BOROUGH'].isna()]['BOROUGH'] == 'BROOKLYN').mean())"
   ]
  },
  {
   "cell_type": "markdown",
   "metadata": {},
   "source": [
    "#### Q: Obtain the number of vehicles involved in each collision in 2016. Group the collisions by zip code and compute the sum of all vehicles involved in collisions in each zip code, then report the maximum of these values."
   ]
  },
  {
   "cell_type": "code",
   "execution_count": 15,
   "metadata": {},
   "outputs": [
    {
     "name": "stdout",
     "output_type": "stream",
     "text": [
      "2698\n"
     ]
    }
   ],
   "source": [
    "nypd_2016['num_of_vehicles'] = nypd_2016.filter(like='CONTRIBUTING').notna().sum(axis=1)\n",
    "print(nypd_2016.groupby('ZIP CODE').count()['num_of_vehicles'].max())"
   ]
  },
  {
   "cell_type": "markdown",
   "metadata": {},
   "source": [
    "#### Q: For each borough, compute the number of accidents per capita involving alcohol in 2017. Report the highest rate among the 5 boroughs. "
   ]
  },
  {
   "cell_type": "code",
   "execution_count": 16,
   "metadata": {},
   "outputs": [
    {
     "name": "stdout",
     "output_type": "stream",
     "text": [
      "0.00022727521556223623\n"
     ]
    }
   ],
   "source": [
    "population = pd.DataFrame({'BOROUGH': ['BRONX', 'MANHATTAN', 'QUEENS', 'BROOKLYN', 'STATEN ISLAND'],\n",
    "                           'population': [1471160, 1664727, 2358582, 2648771, 479458]})\n",
    "nypd_2017 = nypd_index['2017']\n",
    "num_acc = nypd_2017[(nypd_2017.filter(like='CONTRIBUTING') == 'Alcohol Involvement').any(axis=1)]\\\n",
    "         .groupby('BOROUGH')['CONTRIBUTING FACTOR VEHICLE 1'].count().reset_index()\n",
    "num_acc = num_acc.merge(population, on='BOROUGH').set_index('BOROUGH')\n",
    "print((num_acc['CONTRIBUTING FACTOR VEHICLE 1'] / num_acc['population']).max())"
   ]
  },
  {
   "cell_type": "markdown",
   "metadata": {},
   "source": [
    "#### Q: Consider the total number of collisions each year from 2013-2018. Is there an apparent trend? Fit a linear regression for the number of collisions per year and report its slope."
   ]
  },
  {
   "cell_type": "code",
   "execution_count": 17,
   "metadata": {},
   "outputs": [
    {
     "name": "stdout",
     "output_type": "stream",
     "text": [
      "6447.914285714288\n"
     ]
    }
   ],
   "source": [
    "nypd_13_18 = nypd_index['2013':'2018']\n",
    "data = nypd_13_18.resample('Y').count()['UNIQUE KEY'].reset_index()\n",
    "x = np.arange(6).reshape(-1, 1)\n",
    "y = data['UNIQUE KEY']\n",
    "lr = linear_model.LinearRegression()\n",
    "fit = lr.fit(x, y)\n",
    "print(fit.coef_[0])"
   ]
  },
  {
   "cell_type": "markdown",
   "metadata": {},
   "source": [
    "#### Q: Compute the rate of multi car collisions as the proportion of the number of collisions involving 3 or more cars to the total number of collisions for each month of 2017. Calculate the chi-square test statistic for testing whether a collision is more likely to involve 3 or more cars in January than in May."
   ]
  },
  {
   "cell_type": "code",
   "execution_count": 18,
   "metadata": {},
   "outputs": [],
   "source": [
    "nypd_2017 = nypd_index['2017']"
   ]
  },
  {
   "cell_type": "code",
   "execution_count": 19,
   "metadata": {},
   "outputs": [],
   "source": [
    "multi = nypd_2017[nypd_2017.filter(like='CONTRIBUTING').notna().sum(axis=1) >= 3]\n",
    "colli = nypd_2017[~(nypd_2017.filter(like='CONTRIBUTING').notna().sum(axis=1) >= 3)]\n",
    "num_colli_mult = multi.resample('M').count()['UNIQUE KEY']\n",
    "num_collision = colli.resample('M').count()['UNIQUE KEY']"
   ]
  },
  {
   "cell_type": "code",
   "execution_count": 20,
   "metadata": {},
   "outputs": [],
   "source": [
    "collision = pd.concat([num_collision, num_colli_mult], axis=1)\n",
    "collision.columns=['coll_few', 'coll_mult']"
   ]
  },
  {
   "cell_type": "code",
   "execution_count": 67,
   "metadata": {},
   "outputs": [
    {
     "name": "stdout",
     "output_type": "stream",
     "text": [
      "            coll_few  coll_mult\n",
      "DATE_TIME                      \n",
      "2017-01-31     16416       1135\n",
      "2017-02-28     14870        965\n",
      "2017-03-31     18240       1096\n",
      "2017-04-30     16731       1098\n",
      "2017-05-31     19704       1308\n",
      "2017-06-30     20027       1342\n",
      "2017-07-31     18319       1274\n",
      "2017-08-31     17892       1242\n",
      "2017-09-30     18308       1296\n",
      "2017-10-31     19081       1277\n",
      "2017-11-30     18443       1218\n",
      "2017-12-31     18446       1269\n",
      "0.9023834507906645\n"
     ]
    }
   ],
   "source": [
    "print(collision)\n",
    "observed = pd.concat([collision['2017-01'], collision['2017-05']], axis=0).values\n",
    "chisq, p, dof, expected = stats.chi2_contingency(observed)\n",
    "print(chisq)"
   ]
  },
  {
   "cell_type": "markdown",
   "metadata": {},
   "source": [
    "#### Q: We can use collision locations to estimate the areas of the zip code regions. Represent each as an ellipse with semi-axes given by a single standard deviation of the longitude and latitude. For collisions in 2017, estimate the number of collisions per square kilometer of each zip code region. Considering zipcodes with at least 1000 collisions, report the greatest value for collisions per square kilometer. Note: Some entries may have invalid or incorrect (latitude, longitude) coordinates. Drop any values that are invalid or seem unreasonable for New York City."
   ]
  },
  {
   "cell_type": "code",
   "execution_count": 139,
   "metadata": {},
   "outputs": [
    {
     "name": "stdout",
     "output_type": "stream",
     "text": [
      "5129.4471146398255\n"
     ]
    }
   ],
   "source": [
    "nypd_2017 = nypd_index['2017']\n",
    "\n",
    "lat_min = 40.\n",
    "lat_max = 41.\n",
    "lon_min = -74.27\n",
    "lon_max = -73.6\n",
    "clean_2017 = nypd_2017[(nypd_2017['LATITUDE'].between(lat_min, lat_max)) & (nypd_2017['LONGITUDE'].between(lon_min, lon_max))]\n",
    "\n",
    "counts = clean_2017.groupby('ZIP CODE').count()\n",
    "considered = counts[counts['UNIQUE KEY'] >= 1000]['UNIQUE KEY'] # index: float64, count: int64\n",
    "\n",
    "data = clean_2017[clean_2017['ZIP CODE'].astype('float64').isin(considered.index)]\n",
    "\n",
    "ellipse = pd.concat([data.groupby('ZIP CODE').agg({'LATITUDE': 'mean', 'LONGITUDE': 'mean'}),\n",
    "           data.groupby('ZIP CODE').agg({'LATITUDE': 'std', 'LONGITUDE': 'std'})], axis=1)\n",
    "ellipse.columns = ['lat_mean', 'lon_mean', 'lat_std', 'lon_std']\n",
    "\n",
    "def area_in_kilo(row):\n",
    "    a = great_circle((row['lat_mean'], row['lon_mean']), (row['lat_mean'], row['lon_mean'] + row['lon_std'])).kilometers\n",
    "    b = great_circle((row['lat_mean'], row['lon_mean']), (row['lat_mean'] + row['lat_std'], row['lon_mean'])).kilometers\n",
    "    return np.pi * a * b\n",
    "\n",
    "ellipse['area_kilo'] = ellipse.apply(area_in_kilo, axis=1)\n",
    "\n",
    "combined = pd.concat([considered, ellipse], axis=1)\n",
    "\n",
    "print((combined['UNIQUE KEY'] / combined['area_kilo']).max())"
   ]
  },
  {
   "cell_type": "code",
   "execution_count": null,
   "metadata": {},
   "outputs": [],
   "source": []
  }
 ],
 "metadata": {
  "kernelspec": {
   "display_name": "modin",
   "language": "python",
   "name": "modin"
  },
  "language_info": {
   "codemirror_mode": {
    "name": "ipython",
    "version": 3
   },
   "file_extension": ".py",
   "mimetype": "text/x-python",
   "name": "python",
   "nbconvert_exporter": "python",
   "pygments_lexer": "ipython3",
   "version": "3.7.3"
  }
 },
 "nbformat": 4,
 "nbformat_minor": 2
}
