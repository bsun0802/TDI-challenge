{
 "cells": [
  {
   "cell_type": "code",
   "execution_count": 1,
   "metadata": {},
   "outputs": [
    {
     "data": {
      "text/html": [
       "<img src=\"https://i.imgur.com/xw1WPVA.png\"/>"
      ],
      "text/plain": [
       "<IPython.core.display.Image object>"
      ]
     },
     "execution_count": 1,
     "metadata": {},
     "output_type": "execute_result"
    }
   ],
   "source": [
    "from IPython.display import Image\n",
    "from IPython.core.display import HTML \n",
    "Image(url= 'https://i.imgur.com/xw1WPVA.png')"
   ]
  },
  {
   "cell_type": "code",
   "execution_count": 3,
   "metadata": {},
   "outputs": [
    {
     "data": {
      "text/html": [
       "<img src=\"https://i.imgur.com/44JDaMS.jpg\"/>"
      ],
      "text/plain": [
       "<IPython.core.display.Image object>"
      ]
     },
     "execution_count": 3,
     "metadata": {},
     "output_type": "execute_result"
    }
   ],
   "source": [
    "from IPython.display import Image\n",
    "from IPython.core.display import HTML \n",
    "Image(url='https://i.imgur.com/44JDaMS.jpg')"
   ]
  },
  {
   "cell_type": "markdown",
   "metadata": {},
   "source": [
    "## Traffic data animation: net departure data throughout the day.\n",
    "#### The animation was put together by `ffmpeg` through mp4 or gif output."
   ]
  },
  {
   "cell_type": "code",
   "execution_count": 22,
   "metadata": {},
   "outputs": [
    {
     "data": {
      "text/html": [
       "<img src=\"https://i.imgur.com/UUIfkD0.gif\"/>"
      ],
      "text/plain": [
       "<IPython.core.display.Image object>"
      ]
     },
     "metadata": {},
     "output_type": "display_data"
    }
   ],
   "source": [
    "import IPython.display\n",
    "from IPython.display import Image\n",
    "\n",
    "display(Image(url='https://i.imgur.com/UUIfkD0.gif'))"
   ]
  },
  {
   "cell_type": "markdown",
   "metadata": {},
   "source": [
    "# Visualizing individual trips."
   ]
  },
  {
   "cell_type": "code",
   "execution_count": 2,
   "metadata": {},
   "outputs": [
    {
     "data": {
      "text/html": [
       "<img src=\"https://i.imgur.com/aGnjuzP.gif\"/>"
      ],
      "text/plain": [
       "<IPython.core.display.Image object>"
      ]
     },
     "metadata": {},
     "output_type": "display_data"
    }
   ],
   "source": [
    "display(Image(url='https://i.imgur.com/aGnjuzP.gif'))\n",
    "# from IPython.display import HTML\n",
    "\n",
    "# HTML(\"\"\"\n",
    "# <div align=\"middle\">\n",
    "# <video width=\"80%\" controls>\n",
    "#       <source src=\"https://i.imgur.com/YxOYyPn.mp4\" type=\"video/mp4\">\n",
    "# </video></div>\"\"\")"
   ]
  },
  {
   "cell_type": "code",
   "execution_count": 1,
   "metadata": {},
   "outputs": [],
   "source": [
    "import os\n",
    "from os import path\n",
    "import time\n",
    "import datetime\n",
    "import io\n",
    "import multiprocessing as mp\n",
    "from collections import defaultdict\n",
    "\n",
    "import pandas as pd\n",
    "import numpy as np\n",
    "import seaborn as sns\n",
    "import scipy.ndimage.filters\n",
    "\n",
    "\n",
    "import PIL\n",
    "from PIL import Image, ImageDraw, ImageFont\n",
    "import matplotlib\n",
    "import matplotlib.colors\n",
    "import matplotlib.pyplot as plt\n",
    "import matplotlib.gridspec as gridspec\n",
    "import matplotlib.dates as mdates\n",
    "from matplotlib.colors import LinearSegmentedColormap, rgb_to_hsv, hsv_to_rgb\n",
    "\n",
    "import folium\n",
    "from folium import plugins\n",
    "\n",
    "import selenium\n",
    "\n",
    "from map_utils import *\n",
    "%matplotlib inline"
   ]
  },
  {
   "cell_type": "code",
   "execution_count": 2,
   "metadata": {},
   "outputs": [
    {
     "name": "stdout",
     "output_type": "stream",
     "text": [
      "loading NYC-citibike/201901-citibike-tripdata.csv\n",
      "loading NYC-citibike/201902-citibike-tripdata.csv\n",
      "loading NYC-citibike/201903-citibike-tripdata.csv\n",
      "loading NYC-citibike/201904-citibike-tripdata.csv\n"
     ]
    }
   ],
   "source": [
    "def get_nyc_bikedata(years, months):\n",
    "    container = []\n",
    "    for year in years:\n",
    "        for month in months:\n",
    "            fn = path.join('NYC-citibike/', f'{year}{month:02d}-citibike-tripdata.csv')\n",
    "            print('loading', fn)\n",
    "            if path.isfile(fn):\n",
    "                container.append(pd.read_csv(fn, parse_dates=['starttime', 'stoptime']))\n",
    "    df = pd.concat(container, axis=0)\n",
    "    return df\n",
    "\n",
    "nyc = get_nyc_bikedata([2019], [1, 2, 3, 4])\n",
    "nyc.columns = nyc.columns.map(lambda x: x.replace(' ', '_'))\n",
    "nyc.set_index('starttime', inplace=True, drop=False)\n",
    "# get station id, name, lat/lon\n",
    "stations = nyc.filter(like='start_').groupby('start_station_id').first()"
   ]
  },
  {
   "cell_type": "code",
   "execution_count": 3,
   "metadata": {},
   "outputs": [],
   "source": [
    "def get_trip_counts(df):    \n",
    "    departure_counts = df.groupby('start_station_id').size()\n",
    "    arrival_counts = df.groupby('end_station_id').size()\n",
    "    trip_counts = pd.concat([departure_counts, arrival_counts], axis=1, join='inner')\n",
    "    trip_counts.columns = ['departure_counts', 'arrival_counts']\n",
    "    return trip_counts.join(stations)"
   ]
  },
  {
   "cell_type": "code",
   "execution_count": 4,
   "metadata": {},
   "outputs": [],
   "source": [
    "date_query = 'starttime >= \"2019-04-01 00:00:00\"'\n",
    "# time_query = ('09:00', '10:00')\n",
    "\n",
    "# trip_data = nyc.query(date_query).between_time(*time_query)\n",
    "\n",
    "# trip_counts = get_trip_counts(trip_data)"
   ]
  },
  {
   "cell_type": "code",
   "execution_count": 5,
   "metadata": {},
   "outputs": [],
   "source": [
    "def plot_station_counts(trip_counts, zoom_start=13):\n",
    "    # generate a new map\n",
    "    folium_map = folium.Map(location=[40.738, -73.98],\n",
    "                            zoom_start=zoom_start,\n",
    "                            tiles='CartoDB dark_matter',\n",
    "                            width='100%')\n",
    "\n",
    "    # for each row in the data, add a cicle marker\n",
    "    for index, row in trip_counts.iterrows():\n",
    "        net_departures = (row['departure_counts']-row['arrival_counts'])\n",
    "        # generate the popup message that is shown on click.\n",
    "        popup_text = \"Station ID: {}<br>{}<br> total departures: {}<br> total arrivals: {}<br> net departures: {}\"\n",
    "        popup_text = popup_text.format(row.name, row['start_station_name'],\n",
    "                          row['departure_counts'],\n",
    "                          row['arrival_counts'],\n",
    "                          net_departures)\n",
    "        \n",
    "        # radius of circles\n",
    "        radius = abs(net_departures) / 25\n",
    "        \n",
    "        if net_departures > 0:\n",
    "            color='#E37222' # tangerine\n",
    "        else:\n",
    "            color='#0A8A9F' # teal\n",
    "        \n",
    "        # add marker to the map\n",
    "        folium.CircleMarker(location=(row['start_station_latitude'],\n",
    "                                      row['start_station_longitude']),\n",
    "                            radius=radius,\n",
    "                            color=color,\n",
    "                            popup=popup_text,\n",
    "                            fill=True).add_to(folium_map)\n",
    "    return folium_map"
   ]
  },
  {
   "cell_type": "markdown",
   "metadata": {},
   "source": [
    "#### Gif to visualize the trip counts throughout the day"
   ]
  },
  {
   "cell_type": "code",
   "execution_count": 6,
   "metadata": {},
   "outputs": [],
   "source": [
    "def interpo_trip_counts(df1, df2, float_hour):\n",
    "    \"\"\"Interpolated the trip counts of a float_hour (eg 9.5) by trip_counts for 9 and 10\"\"\"\n",
    "    def interpolate(df1, df2, w):\n",
    "        df = df1 * (1 - w) + df2 * w\n",
    "        return df.fillna(0)\n",
    "    prev_hour = df1.drop(columns=['start_station_name'])\n",
    "    next_hour = df2.drop(columns=['start_station_name'])\n",
    "    mid = interpolate(prev_hour, next_hour, float_hour % 1)\n",
    "    mid['start_station_name'] = stations.loc[mid.index]['start_station_name']\n",
    "    return mid"
   ]
  },
  {
   "cell_type": "code",
   "execution_count": 7,
   "metadata": {},
   "outputs": [],
   "source": [
    "def save_frame(i, frame, float_hour, save_path):\n",
    "    # generate the png file as a byte array\n",
    "    png = frame._to_png()\n",
    "\n",
    "    #string to be added to the image to indicate the time-of-day.\n",
    "    hour = int(float_hour)\n",
    "    minutes = int((float_hour % 1) * 60)\n",
    "    suffix = 'pm' if hour > 12 else 'am'\n",
    "    \n",
    "    # create a PIL image object\n",
    "    image = Image.open(io.BytesIO(png))\n",
    "    draw = ImageDraw.Draw(image)\n",
    "    \n",
    "    font = ImageFont.truetype(\"Roboto-Light.ttf\", 30)\n",
    "    # draw time of day text to bottom left\n",
    "    draw.text((20,image.height - 50), \n",
    "              \"time: {:0>2}:{:0>2}{}\".format(hour, minutes, suffix),\n",
    "              fill=(255, 255, 255), \n",
    "              font=font)\n",
    "    \n",
    "    # draw title to topright\n",
    "    draw.text((image.width - 400,20), \n",
    "              \"Net Departure vs Time of Day\",\n",
    "              fill=(255, 255, 255), \n",
    "              font=font)\n",
    "    \n",
    "    # write to a png file\n",
    "    filename = os.path.join(save_path, \"frame_{:0>5}.png\".format(i))\n",
    "    image.save(filename, \"PNG\")\n",
    "    return image"
   ]
  },
  {
   "cell_type": "code",
   "execution_count": 8,
   "metadata": {},
   "outputs": [],
   "source": [
    "def frame_worker(i, float_hour, save_path):\n",
    "    data = interpo_trip_counts(trip_counts_by_hour[int(float_hour)],\n",
    "                               trip_counts_by_hour[int(float_hour+1)], float_hour)\n",
    "    frame = plot_station_counts(data, zoom_start=14)\n",
    "    save_frame(i, frame, float_hour, save_path)"
   ]
  },
  {
   "cell_type": "code",
   "execution_count": 9,
   "metadata": {},
   "outputs": [],
   "source": [
    "# cache trip_counts data for each hour throughout the day\n",
    "trip_counts_by_hour = {}  # THIS IS THE DATA FOR THE VIDEO\n",
    "for hour in np.arange(6, 24):\n",
    "    time_query = (f'{hour:02d}:00', f'{hour+1:02d}')\n",
    "    trip_counts_by_hour[hour] = get_trip_counts(nyc.query(date_query).between_time(*time_query))\n",
    "    \n",
    "dir_name = 'trip_counts_frames'\n",
    "if not os.path.exists(dir_name):\n",
    "    os.mkdir(dir_name)"
   ]
  },
  {
   "cell_type": "code",
   "execution_count": null,
   "metadata": {},
   "outputs": [],
   "source": [
    "\n",
    "#### parallelize the tasks with multiprocessing \n",
    "TASKS = [(i, float_hour, dir_name) for i, float_hour in enumerate(np.arange(6, 23, 1/6))]\n",
    "with mp.Pool(processes=8) as p:\n",
    "    p.starmap(frame_worker, TASKS)\n",
    "    p.close()\n",
    "    p.join()"
   ]
  },
  {
   "cell_type": "markdown",
   "metadata": {},
   "source": [
    "#### Re-render dropouts"
   ]
  },
  {
   "cell_type": "code",
   "execution_count": 283,
   "metadata": {},
   "outputs": [],
   "source": [
    "# dropouts = [66, 77, 101]\n",
    "# float_hours = np.arange(6, 23, 1/6)\n",
    "# for i in dropouts:\n",
    "#     frame_worker(i, float_hours[i], save_path='trip_counts_frames')"
   ]
  },
  {
   "cell_type": "markdown",
   "metadata": {},
   "source": [
    "#### generate output.mp4"
   ]
  },
  {
   "cell_type": "code",
   "execution_count": null,
   "metadata": {},
   "outputs": [],
   "source": [
    "! ffmpeg -r 10 -i trip_counts_frames/frame_%05d.png -c:v libx264 -vf fps=25 -crf 17 -pix_fmt yuv420p depFrames.mp4"
   ]
  },
  {
   "cell_type": "markdown",
   "metadata": {},
   "source": [
    "#### generate GIF"
   ]
  },
  {
   "cell_type": "code",
   "execution_count": null,
   "metadata": {},
   "outputs": [],
   "source": [
    "! ffmpeg -y  -t 3 -i trip_counts_frames/frame_%05d.png -vf fps=10,scale=320:-1:flags=lanczos,palettegen palette.png\n",
    "! ffmpeg -r 10  -i trip_counts_frames/frame_%05d.png -i palette.png -filter_complex \"fps=10,scale=720:-1:flags=lanczos[x];[x][1:v]paletteuse\" depFrames.gif"
   ]
  },
  {
   "cell_type": "markdown",
   "metadata": {},
   "source": [
    "## Individual Trips\n"
   ]
  },
  {
   "cell_type": "code",
   "execution_count": 10,
   "metadata": {},
   "outputs": [],
   "source": [
    "def path_progress(trips, frame_time):\n",
    "    \"\"\"return a series of numbers between 0 and 1 \n",
    "    indicating the progress of each trip at the given time\"\"\"\n",
    "    return (frame_time - trips['starttime']).dt.total_seconds() / trips['tripduration']"
   ]
  },
  {
   "cell_type": "code",
   "execution_count": 11,
   "metadata": {},
   "outputs": [],
   "source": [
    "def current_position(trips, progress):\n",
    "    \"\"\" Return Latitude and Longitude for the 'current position' of each trip.\n",
    "    Paths are assumed to be straight lines between start and end. \n",
    "    \"\"\"\n",
    "    current_latitude = trips[\"start_station_latitude\"] + \\\n",
    "    progress * (trips['end_station_latitude'] - trips['start_station_latitude'])\n",
    "    current_longitude = trips[\"start_station_longitude\"] + \\\n",
    "    progress * (trips['end_station_longitude'] - trips['start_station_longitude'])\n",
    "    return current_latitude, current_longitude"
   ]
  },
  {
   "cell_type": "code",
   "execution_count": 12,
   "metadata": {},
   "outputs": [],
   "source": [
    "def get_active_trips(frame_time, trips, image_shape, line_len=.1):\n",
    "    \"\"\"Reture pixel coordinates for trips that have started but \n",
    "    not yet completed for the given time.\n",
    "    \"\"\"\n",
    "    active = (trips['starttime'] <= frame_time) & (trips['stoptime'] >= frame_time)\n",
    "    active_trips = trips[active].copy()\n",
    "    \n",
    "    progress = path_progress(active_trips, frame_time)\n",
    "    \n",
    "    current_latitude, current_longitude = current_position(active_trips, progress)\n",
    "    start_latitude, start_longitude = current_position(active_trips, np.clip(progress-line_len, 0, 1))\n",
    "    \n",
    "    start_y, start_x = latlon_to_pixel(start_latitude, \n",
    "                                          start_longitude, \n",
    "                                          image_shape,\n",
    "                                          bounds)\n",
    "    \n",
    "    end_y, end_x = latlon_to_pixel(current_latitude, \n",
    "                                      current_longitude, \n",
    "                                      image_shape,\n",
    "                                      bounds)\n",
    "    xys = list(zip(start_x, start_y, end_x, end_y))\n",
    "    weights = np.clip((1 - progress.values)*100, 0, 1)\n",
    "    \n",
    "    return xys, weights"
   ]
  },
  {
   "cell_type": "code",
   "execution_count": 14,
   "metadata": {},
   "outputs": [],
   "source": [
    "def get_image_map(frame_time, trips):\n",
    "    \"\"\"Create the folium map for the given time\"\"\"\n",
    "    image_data = np.zeros((900*2,400*2))\n",
    "    \n",
    "    # plot the current locations in the trip\n",
    "    xys, weights = get_active_trips(frame_time, trips, image_data.shape, line_len=.01)\n",
    "    image_data = add_lines(image_data, xys, weights=weights*20, width = 4)\n",
    "    \n",
    "    # plot the path of the trip\n",
    "    xys, weights = get_active_trips(frame_time, trips, image_data.shape, line_len=1)\n",
    "    image_data = add_lines(image_data, xys, weights=weights*10, width = 2)\n",
    "    \n",
    "    # generate and return the folium map.\n",
    "    return create_image_map(image_data, bounds)"
   ]
  },
  {
   "cell_type": "code",
   "execution_count": 15,
   "metadata": {},
   "outputs": [],
   "source": [
    "def path_frame_worker(inputs):\n",
    "    i, frame_time, save_path, trips = inputs\n",
    "    frame = get_image_map(frame_time, trips)\n",
    "    png = frame._to_png()\n",
    "    image = Image.open(io.BytesIO(png))\n",
    "    draw = ImageDraw.Draw(image)\n",
    "    font = ImageFont.truetype(\"Roboto-Light.ttf\", 30)\n",
    "    \n",
    "    #draw datetime\n",
    "    draw.text((40, image.height - 95), \"Monday\", fill=(255,255,255),font=font)\n",
    "    draw.text((20,image.height - 50), \n",
    "              \"Date&Time: {}\".format(frame_time),\n",
    "              fill=(255, 255, 255), font=font)\n",
    "    \n",
    "    # draw title\n",
    "    draw.text((image.width - 450,20), \n",
    "              \"Paths of Individual Bike Trips\",\n",
    "              fill=(255, 255, 255), font=font)\n",
    "\n",
    "    image.save(os.path.join(save_path, \"frame_{:0>5}.png\".format(i)), \"png\")\n",
    "    return image"
   ]
  },
  {
   "cell_type": "code",
   "execution_count": 16,
   "metadata": {},
   "outputs": [],
   "source": [
    "bounds = get_min_max(nyc)\n",
    "subset = nyc['2019-04-15']\n",
    "dir_name = \"path_frames\"\n",
    "if not os.path.exists(dir_name):\n",
    "    os.mkdir(dir_name)\n",
    "\n",
    "    \n",
    "start_time = pd.to_datetime('2019-04-15 17:30:00')\n",
    "frame_times = [start_time + datetime.timedelta(seconds=i*30) for i in range(120)]"
   ]
  },
  {
   "cell_type": "code",
   "execution_count": 17,
   "metadata": {},
   "outputs": [],
   "source": [
    "with mp.Pool(processes=8) as pool:\n",
    "    p_res = [pool.map_async(path_frame_worker, ((i, frame_time, dir_name, subset),))\n",
    "            for i, frame_time in enumerate(frame_times)]\n",
    "    pool.close()\n",
    "    pool.join()\n",
    "    \n",
    "    for res in p_res:  # check exit status\n",
    "            assert type(res.get()[0]) == PIL.PngImagePlugin.PngImageFile"
   ]
  },
  {
   "cell_type": "code",
   "execution_count": null,
   "metadata": {},
   "outputs": [],
   "source": [
    "! ffmpeg -r 10 -i path_frames/frame_%05d.png -c:v libx264 -vf fps=25 -crf 17 -pix_fmt yuv420p pathFrames.mp4"
   ]
  },
  {
   "cell_type": "markdown",
   "metadata": {},
   "source": [
    "# Gif"
   ]
  },
  {
   "cell_type": "code",
   "execution_count": null,
   "metadata": {},
   "outputs": [],
   "source": [
    "! ffmpeg -y  -t 3 -i path_frames/frame_%05d.png -vf fps=10,scale=320:-1:flags=lanczos,palettegen path_palette.png\n",
    "! ffmpeg -r 10  -i path_frames/frame_%05d.png -i path_palette.png -filter_complex \"fps=10,scale=720:-1:flags=lanczos[x];[x][1:v]paletteuse\" pathFrames.gif"
   ]
  },
  {
   "cell_type": "code",
   "execution_count": null,
   "metadata": {},
   "outputs": [],
   "source": []
  },
  {
   "cell_type": "code",
   "execution_count": null,
   "metadata": {},
   "outputs": [],
   "source": []
  },
  {
   "cell_type": "code",
   "execution_count": null,
   "metadata": {},
   "outputs": [],
   "source": []
  },
  {
   "cell_type": "code",
   "execution_count": null,
   "metadata": {},
   "outputs": [],
   "source": []
  },
  {
   "cell_type": "code",
   "execution_count": null,
   "metadata": {},
   "outputs": [],
   "source": []
  },
  {
   "cell_type": "code",
   "execution_count": null,
   "metadata": {},
   "outputs": [],
   "source": []
  },
  {
   "cell_type": "code",
   "execution_count": null,
   "metadata": {},
   "outputs": [],
   "source": []
  },
  {
   "cell_type": "code",
   "execution_count": null,
   "metadata": {},
   "outputs": [],
   "source": []
  },
  {
   "cell_type": "code",
   "execution_count": null,
   "metadata": {},
   "outputs": [],
   "source": []
  }
 ],
 "metadata": {
  "kernelspec": {
   "display_name": "modin",
   "language": "python",
   "name": "modin"
  },
  "language_info": {
   "codemirror_mode": {
    "name": "ipython",
    "version": 3
   },
   "file_extension": ".py",
   "mimetype": "text/x-python",
   "name": "python",
   "nbconvert_exporter": "python",
   "pygments_lexer": "ipython3",
   "version": "3.7.3"
  }
 },
 "nbformat": 4,
 "nbformat_minor": 2
}
